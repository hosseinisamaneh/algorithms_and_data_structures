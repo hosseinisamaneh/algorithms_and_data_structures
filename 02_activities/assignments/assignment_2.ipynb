{
 "cells": [
  {
   "cell_type": "markdown",
   "metadata": {},
   "source": [
    "# Practice Interview\n",
    "\n",
    "## Objective\n",
    "\n",
    "_*The partner assignment aims to provide participants with the opportunity to practice coding in an interview context. You will analyze your partner's Assignment 1. Moreover, code reviews are common practice in a software development team. This assignment should give you a taste of the code review process.*_\n",
    "\n",
    "## Group Size\n",
    "\n",
    "Each group should have 2 people. You will be assigned a partner\n",
    "\n",
    "## Part 1:\n",
    "\n",
    "You and your partner must share each other's Assignment 1 submission."
   ]
  },
  {
   "cell_type": "markdown",
   "metadata": {},
   "source": [
    "\n",
    "## Part 2:\n",
    "\n",
    "Create a Jupyter Notebook, create 6 of the following headings, and complete the following for your partner's assignment 1:\n",
    "\n",
    "-   Paraphrase the problem in your own words.\n"
   ]
  },
  {
   "cell_type": "code",
   "execution_count": 36,
   "metadata": {},
   "outputs": [],
   "source": [
    "# We need to print out all possible paths starting from root to leaves. In a graph, paths are any sequence of nodes connected by edges. \n",
    "# The order of the paths is not important."
   ]
  },
  {
   "cell_type": "markdown",
   "metadata": {},
   "source": [
    "\n",
    "-   Create 1 new example that demonstrates you understand the problem. Trace/walkthrough 1 example that your partner made and explain it.\n"
   ]
  },
  {
   "cell_type": "code",
   "execution_count": null,
   "metadata": {},
   "outputs": [],
   "source": [
    "# new example: in this three: 1(2(4,5),3) all path from root to leaves are 1-2-4, 1-2-5, 1-3\n",
    "# this is one example that my partner provided:\n",
    "# root3= TreeNode(1)\n",
    "# root3.left = TreeNode(2)\n",
    "# root3.right = TreeNode(3)\n",
    "# root3.left.left = TreeNode(5)\n",
    "# root3.left.right = TreeNode(8)\n",
    "# root3.right.left = TreeNode(13)\n",
    "# root3.right.right = TreeNode(21)\n",
    "# print(bt_path(root3))\n",
    "\n",
    "# The algorithm start with root, node 1. Then following DFS, it traverse the tree and keep each path by adding newly visited node to the \n",
    "# current path, till rech a leaf. \n",
    " "
   ]
  },
  {
   "cell_type": "markdown",
   "metadata": {},
   "source": [
    "\n",
    "-   Copy the solution your partner wrote. \n"
   ]
  },
  {
   "cell_type": "code",
   "execution_count": 38,
   "metadata": {},
   "outputs": [
    {
     "name": "stdout",
     "output_type": "stream",
     "text": [
      "[[1, 2, 3], [1, 2, 5], [1, 2, 6], [1, 2, 7]]\n",
      "[[10, 9, 8], [10, 7]]\n"
     ]
    }
   ],
   "source": [
    "from typing import List\n",
    "\n",
    "class TreeNode:\n",
    "    def __init__(self, val=0, left=None, right=None):\n",
    "        self.val = val\n",
    "        self.left = left\n",
    "        self.right = right\n",
    "\n",
    "def bt_path(root: TreeNode) -> List[List[int]]:\n",
    "    paths = []\n",
    "\n",
    "    if not root:\n",
    "        return []\n",
    "\n",
    "    def dfs(node, path):\n",
    "        path.append(node.val)\n",
    "        if not node.left and not node.right:\n",
    "            paths.append(path)\n",
    "        if node.left:\n",
    "            dfs(node.left, path.copy())\n",
    "        if node.right:\n",
    "            dfs(node.right, path.copy())\n",
    "\n",
    "    \n",
    "    dfs(root, [])\n",
    "    return paths\n",
    "\n",
    "root1 = TreeNode(1)\n",
    "root1.left = TreeNode(2)\n",
    "root1.right = TreeNode(2)\n",
    "root1.left.left = TreeNode(3)\n",
    "root1.left.right = TreeNode(5)\n",
    "root1.right.left = TreeNode(6)\n",
    "root1.right.right = TreeNode(7)\n",
    "\n",
    "root2 = TreeNode(10)\n",
    "root2.left = TreeNode(9)\n",
    "root2.right = TreeNode(7)\n",
    "root2.left.left = TreeNode(8)\n",
    "\n",
    "print(bt_path(root1))\n",
    "print(bt_path(root2))"
   ]
  },
  {
   "cell_type": "markdown",
   "metadata": {},
   "source": [
    "\n",
    "-   Explain why their solution works in your own words.\n"
   ]
  },
  {
   "cell_type": "code",
   "execution_count": 39,
   "metadata": {},
   "outputs": [],
   "source": [
    "# This method works properly because it uses a depth-first search (DFS) approach to traverse the tree. \n",
    "# The method starts from the root node and explores each path by recursively visiting the left and right child nodes. \n",
    "# When it reaches a leaf node (a node with no children), it adds the current path to the list of paths. The algorithm explores \n",
    "# every possible path from the root to all the leaf nodes because all the following premises are true: 1. all pathe starts with \n",
    "# root and ends with a node, 2. all nodes will be visited using DFS search so all path are listed."
   ]
  },
  {
   "cell_type": "markdown",
   "metadata": {},
   "source": [
    "\n",
    "-   Explain the problem’s time and space complexity in your own words.\n"
   ]
  },
  {
   "cell_type": "code",
   "execution_count": null,
   "metadata": {},
   "outputs": [],
   "source": [
    "# The time complexity of the problem is O(N), where N is the number of nodes in the tree, because we visit each node once. \n",
    "# The space complexity is O(D * N), where D is the depth of the tree and N is the number of leaves. "
   ]
  },
  {
   "cell_type": "markdown",
   "metadata": {},
   "source": [
    "\n",
    "-   Critique your partner's solution, including explanation, and if there is anything that should be adjusted.\n"
   ]
  },
  {
   "cell_type": "code",
   "execution_count": null,
   "metadata": {},
   "outputs": [],
   "source": [
    "# The are two issue in his responces to the questions: \n",
    "# First, he said that the space complexity is O(N), but as in his code all path is kept till the end of the method, nodes are stored\n",
    "# multiple times depending to the depth of each node. I guess the space complexity is O(D * n), that D is the depth of the tree and n \n",
    "# is the number of leaves.\n",
    "# Second, the last question asked for alternative solution for the problem, but my partner explained about alternative solution for \n",
    "# creating the binary tree. For example, he can use bfs instead of dfs, or any other traverse algorithm."
   ]
  },
  {
   "cell_type": "markdown",
   "metadata": {},
   "source": [
    "\n",
    "## Part 3:\n",
    "\n",
    "Please write a 200 word reflection documenting your process from assignment 1, and your presentation and review experience with your partner at the bottom of the Jupyter Notebook under a new heading \"Reflection.\" Again, export this Notebook as pdf.\n"
   ]
  },
  {
   "cell_type": "markdown",
   "metadata": {},
   "source": [
    "### Reflection"
   ]
  },
  {
   "cell_type": "code",
   "execution_count": null,
   "metadata": {},
   "outputs": [],
   "source": [
    "# For the first assignment, I was tasked with solving a problem related to detecting duplicate values in a binary tree. \n",
    "# The problem asks for a method to check if a tree contains duplicate values. The solution needs to traverse the tree, for example \n",
    "# using DFS search, and identify duplicate values by keeping the set of all visited values and searching for the value of each newly \n",
    "# visited node in this set. This approach ensures that I check every node in the tree using dfs, while seeking for duplicates. \n",
    "# The DFS allows me to explore each branch fully before moving on to the next one. The time complexity of this approach is O(N), \n",
    "# where N is the number of nodes in the tree, as we visit each node once. The space complexity is also O(N) because of the need to \n",
    "# store the visited values in a set of size N.\n",
    "\n",
    "# In the second assignment, I reviewed my partner's solutions for finding all paths in a binary tree problem. This review includes \n",
    "# paraphrasing the problem, creating examples, and analyzing their approach. For example, in my partner's assignment, they work on \n",
    "# paths in a binary tree and use depth-first search (DFS) to find all possible paths from the root to the leaves, and an alternative \n",
    "# could be using BFS search. The time complexity of this solution is O(N), since each node is visited once. The space complexity is \n",
    "# O(D * n), where D is the depth of the tree and n is the number of leaves. "
   ]
  },
  {
   "cell_type": "markdown",
   "metadata": {},
   "source": [
    "\n",
    "## Evaluation Criteria\n",
    "\n",
    "We are looking for the similar points as Assignment 1\n",
    "\n",
    "-   Problem is accurately stated\n",
    "\n",
    "-   New example is correct and easily understandable\n",
    "\n",
    "-   Correctness, time, and space complexity of the coding solution\n",
    "\n",
    "-   Clarity in explaining why the solution works, its time and space complexity\n",
    "\n",
    "-   Quality of critique of your partner's assignment, if necessary\n"
   ]
  },
  {
   "cell_type": "markdown",
   "metadata": {},
   "source": [
    "## Submission Information\n",
    "\n",
    "🚨 **Please review our [Assignment Submission Guide](https://github.com/UofT-DSI/onboarding/blob/main/onboarding_documents/submissions.md)** 🚨 for detailed instructions on how to format, branch, and submit your work. Following these guidelines is crucial for your submissions to be evaluated correctly.\n",
    "\n",
    "### Submission Parameters:\n",
    "* Submission Due Date: `HH:MM AM/PM - DD/MM/YYYY`\n",
    "* The branch name for your repo should be: `assignment-2`\n",
    "* What to submit for this assignment:\n",
    "    * This Jupyter Notebook (assignment_2.ipynb) should be populated and should be the only change in your pull request.\n",
    "* What the pull request link should look like for this assignment: `https://github.com/<your_github_username>/algorithms_and_data_structures/pull/<pr_id>`\n",
    "    * Open a private window in your browser. Copy and paste the link to your pull request into the address bar. Make sure you can see your pull request properly. This helps the technical facilitator and learning support staff review your submission easily.\n",
    "\n",
    "Checklist:\n",
    "- [ ] Created a branch with the correct naming convention.\n",
    "- [ ] Ensured that the repository is public.\n",
    "- [ ] Reviewed the PR description guidelines and adhered to them.\n",
    "- [ ] Verify that the link is accessible in a private browser window.\n",
    "\n",
    "If you encounter any difficulties or have questions, please don't hesitate to reach out to our team via our Slack at `#cohort-3-help`. Our Technical Facilitators and Learning Support staff are here to help you navigate any challenges.\n"
   ]
  }
 ],
 "metadata": {
  "kernelspec": {
   "display_name": "dsi_participant",
   "language": "python",
   "name": "python3"
  },
  "language_info": {
   "codemirror_mode": {
    "name": "ipython",
    "version": 3
   },
   "file_extension": ".py",
   "mimetype": "text/x-python",
   "name": "python",
   "nbconvert_exporter": "python",
   "pygments_lexer": "ipython3",
   "version": "3.9.21"
  }
 },
 "nbformat": 4,
 "nbformat_minor": 2
}
